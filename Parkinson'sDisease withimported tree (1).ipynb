{
 "cells": [
  {
   "cell_type": "markdown",
   "metadata": {},
   "source": [
    "# Subject:  \n",
    ". Take into account the selection Algorithm EFSA technique based on filter, embedding and \"X\" algorithms\n",
    "\n",
    ". Machine learning techniques  :  **RF**, **Logistic  Regression**,  et **LightGBM**"
   ]
  },
  {
   "cell_type": "code",
   "execution_count": 11,
   "metadata": {},
   "outputs": [],
   "source": [
    "import pandas as pd\n",
    "import numpy as np"
   ]
  },
  {
   "cell_type": "markdown",
   "metadata": {},
   "source": [
    "load data set of Parkinson "
   ]
  },
  {
   "cell_type": "code",
   "execution_count": 12,
   "metadata": {},
   "outputs": [
    {
     "data": {
      "text/plain": [
       "(756, 755)"
      ]
     },
     "execution_count": 12,
     "metadata": {},
     "output_type": "execute_result"
    }
   ],
   "source": [
    "dataset=pd.read_csv('pd_speech_features.csv',header=1)\n",
    "dataset.shape"
   ]
  },
  {
   "cell_type": "code",
   "execution_count": 13,
   "metadata": {},
   "outputs": [
    {
     "name": "stdout",
     "output_type": "stream",
     "text": [
      "<class 'pandas.core.frame.DataFrame'>\n",
      "RangeIndex: 756 entries, 0 to 755\n",
      "Columns: 755 entries, id to class\n",
      "dtypes: float64(749), int64(6)\n",
      "memory usage: 4.4 MB\n"
     ]
    }
   ],
   "source": [
    "dataset.info()"
   ]
  },
  {
   "cell_type": "code",
   "execution_count": 14,
   "metadata": {},
   "outputs": [
    {
     "data": {
      "text/html": [
       "<div>\n",
       "<style scoped>\n",
       "    .dataframe tbody tr th:only-of-type {\n",
       "        vertical-align: middle;\n",
       "    }\n",
       "\n",
       "    .dataframe tbody tr th {\n",
       "        vertical-align: top;\n",
       "    }\n",
       "\n",
       "    .dataframe thead th {\n",
       "        text-align: right;\n",
       "    }\n",
       "</style>\n",
       "<table border=\"1\" class=\"dataframe\">\n",
       "  <thead>\n",
       "    <tr style=\"text-align: right;\">\n",
       "      <th></th>\n",
       "      <th>id</th>\n",
       "      <th>gender</th>\n",
       "      <th>PPE</th>\n",
       "      <th>DFA</th>\n",
       "      <th>RPDE</th>\n",
       "      <th>numPulses</th>\n",
       "      <th>numPeriodsPulses</th>\n",
       "      <th>meanPeriodPulses</th>\n",
       "      <th>stdDevPeriodPulses</th>\n",
       "      <th>locPctJitter</th>\n",
       "      <th>...</th>\n",
       "      <th>tqwt_kurtosisValue_dec_28</th>\n",
       "      <th>tqwt_kurtosisValue_dec_29</th>\n",
       "      <th>tqwt_kurtosisValue_dec_30</th>\n",
       "      <th>tqwt_kurtosisValue_dec_31</th>\n",
       "      <th>tqwt_kurtosisValue_dec_32</th>\n",
       "      <th>tqwt_kurtosisValue_dec_33</th>\n",
       "      <th>tqwt_kurtosisValue_dec_34</th>\n",
       "      <th>tqwt_kurtosisValue_dec_35</th>\n",
       "      <th>tqwt_kurtosisValue_dec_36</th>\n",
       "      <th>class</th>\n",
       "    </tr>\n",
       "  </thead>\n",
       "  <tbody>\n",
       "    <tr>\n",
       "      <th>113</th>\n",
       "      <td>37</td>\n",
       "      <td>0</td>\n",
       "      <td>0.79067</td>\n",
       "      <td>0.58465</td>\n",
       "      <td>0.6425</td>\n",
       "      <td>321</td>\n",
       "      <td>320</td>\n",
       "      <td>0.006004</td>\n",
       "      <td>0.000143</td>\n",
       "      <td>0.00207</td>\n",
       "      <td>...</td>\n",
       "      <td>3.58</td>\n",
       "      <td>4.0251</td>\n",
       "      <td>2.9654</td>\n",
       "      <td>3.8369</td>\n",
       "      <td>4.2973</td>\n",
       "      <td>3.6458</td>\n",
       "      <td>3.1854</td>\n",
       "      <td>3.7708</td>\n",
       "      <td>10.0693</td>\n",
       "      <td>1</td>\n",
       "    </tr>\n",
       "  </tbody>\n",
       "</table>\n",
       "<p>1 rows × 755 columns</p>\n",
       "</div>"
      ],
      "text/plain": [
       "     id  gender      PPE      DFA    RPDE  numPulses  numPeriodsPulses  \\\n",
       "113  37       0  0.79067  0.58465  0.6425        321               320   \n",
       "\n",
       "     meanPeriodPulses  stdDevPeriodPulses  locPctJitter  ...  \\\n",
       "113          0.006004            0.000143       0.00207  ...   \n",
       "\n",
       "     tqwt_kurtosisValue_dec_28  tqwt_kurtosisValue_dec_29  \\\n",
       "113                       3.58                     4.0251   \n",
       "\n",
       "     tqwt_kurtosisValue_dec_30  tqwt_kurtosisValue_dec_31  \\\n",
       "113                     2.9654                     3.8369   \n",
       "\n",
       "     tqwt_kurtosisValue_dec_32  tqwt_kurtosisValue_dec_33  \\\n",
       "113                     4.2973                     3.6458   \n",
       "\n",
       "     tqwt_kurtosisValue_dec_34  tqwt_kurtosisValue_dec_35  \\\n",
       "113                     3.1854                     3.7708   \n",
       "\n",
       "     tqwt_kurtosisValue_dec_36  class  \n",
       "113                    10.0693      1  \n",
       "\n",
       "[1 rows x 755 columns]"
      ]
     },
     "execution_count": 14,
     "metadata": {},
     "output_type": "execute_result"
    }
   ],
   "source": [
    "# Check for duplicated rows\n",
    "dataset[dataset.duplicated()]"
   ]
  },
  {
   "cell_type": "code",
   "execution_count": 15,
   "metadata": {},
   "outputs": [],
   "source": [
    "dataset.drop_duplicates(inplace=True)\n",
    "dataset.drop('id',axis=1,inplace=True)\n",
    "col=dataset.columns\n",
    "dataset.dropna(inplace=True)"
   ]
  },
  {
   "cell_type": "code",
   "execution_count": 16,
   "metadata": {},
   "outputs": [
    {
     "data": {
      "text/plain": [
       "(755, 754)"
      ]
     },
     "execution_count": 16,
     "metadata": {},
     "output_type": "execute_result"
    }
   ],
   "source": [
    "dataset.shape"
   ]
  },
  {
   "cell_type": "code",
   "execution_count": 17,
   "metadata": {},
   "outputs": [
    {
     "data": {
      "image/png": "[encoded data removed]",
      "text/plain": [
       "<Figure size 640x480 with 1 Axes>"
      ]
     },
     "metadata": {},
     "output_type": "display_data"
    }
   ],
   "source": [
    "import matplotlib.pyplot as plt\n",
    "# Check for class imbalance\n",
    "dataset['class'].value_counts().plot(kind='bar')\n",
    "plt.show()"
   ]
  },
  {
   "cell_type": "code",
   "execution_count": 18,
   "metadata": {},
   "outputs": [],
   "source": [
    "import numpy as np\n",
    "from sklearn.model_selection import KFold\n",
    "from sklearn.metrics import accuracy_score\n",
    "from decision_tree import DecisionTree\n",
    "class LightGBM:\n",
    "    def __init__(self, num_trees=10, max_depth=3, learning_rate=0.1, min_samples_split=10, lambda_=1, num_bins=16, random_seed=None):\n",
    "        self.num_trees = num_trees\n",
    "        self.max_depth = max_depth\n",
    "        self.learning_rate = learning_rate\n",
    "        self.min_samples_split = min_samples_split\n",
    "        self.lambda_ = lambda_\n",
    "        self.num_bins = num_bins\n",
    "        self.random_seed = random_seed\n",
    "        self.trees = []\n",
    "        if self.random_seed is not None:\n",
    "            np.random.seed(self.random_seed)\n",
    "\n",
    "    def _compute_gradients(self, y, preds):\n",
    "        preds = np.clip(preds, 1e-15, 1 - 1e-15)  # Avoid numerical issues\n",
    "        grad = preds - y\n",
    "        hess = preds * (1 - preds) + 1e-8  # Add small epsilon for stability\n",
    "        return grad, hess\n",
    "\n",
    "    def _grow_tree_with_decision_tree(self, X, grad, hess):\n",
    "        \"\"\"\n",
    "        Use DecisionTree logic to grow a tree for the current stage.\n",
    "        \"\"\"\n",
    "        # Combine gradients and hessians into a pseudo target\n",
    "        pseudo_target = -grad / (hess + self.lambda_)\n",
    "\n",
    "        # Convert pseudo-targets into binary labels (or use regression)\n",
    "        pseudo_target_binary = (pseudo_target > 0).astype(int)\n",
    "\n",
    "        # Train the DecisionTree with pseudo-targets\n",
    "        decision_tree = DecisionTree(max_depth=self.max_depth, min_samples_split=self.min_samples_split)\n",
    "        decision_tree.fit(X, pseudo_target_binary)\n",
    "        return decision_tree\n",
    "\n",
    "    def fit(self, X, y):\n",
    "        \"\"\"\n",
    "        Train the LightGBM model using DecisionTree for splits.\n",
    "        \"\"\"\n",
    "        self.trees = []\n",
    "        preds = np.zeros(len(y))  # Initial predictions (log odds)\n",
    "\n",
    "        for _ in range(self.num_trees):\n",
    "            grad, hess = self._compute_gradients(y, preds)\n",
    "            tree = self._grow_tree_with_decision_tree(X, grad, hess)\n",
    "            self.trees.append(tree)\n",
    "\n",
    "            # Update predictions with the new tree\n",
    "            preds += self.learning_rate * np.array([tree._traverse_tree(x, tree.root) for x in X])\n",
    "\n",
    "    def predict(self, X):\n",
    "        \"\"\"\n",
    "        Predict using the trained model.\n",
    "        \"\"\"\n",
    "        preds = np.zeros(len(X))\n",
    "        for tree in self.trees:\n",
    "            preds += self.learning_rate * np.array([tree._traverse_tree(x, tree.root) for x in X])\n",
    "        return 1 / (1 + np.exp(-preds))  # Convert log odds to probabilities\n"
   ]
  },
  {
   "cell_type": "code",
   "execution_count": null,
   "metadata": {},
   "outputs": [],
   "source": [
    "from sklearn.model_selection import train_test_split \n",
    "lgbm=LightGBM(num_trees=10, max_depth=3, learning_rate=0.1, lambda_=1)\n",
    "\n",
    "x=dataset.drop('class',axis=1)\n",
    "y=dataset['class']\n",
    "\n",
    "\n",
    "X_train, X_test, y_train, y_test = train_test_split(x, y, test_size=0.33, random_state=16)\n",
    "\n"
   ]
  },
  {
   "cell_type": "code",
   "execution_count": 26,
   "metadata": {},
   "outputs": [],
   "source": [
    "lgbm.fit(X_train.values,y_train.values)\n"
   ]
  },
  {
   "cell_type": "code",
   "execution_count": 23,
   "metadata": {},
   "outputs": [],
   "source": [
    "predic=lgbm.predict(X_test.values)"
   ]
  },
  {
   "cell_type": "code",
   "execution_count": 24,
   "metadata": {},
   "outputs": [
    {
     "name": "stdout",
     "output_type": "stream",
     "text": [
      "Accuracy: 83.00 %\n"
     ]
    }
   ],
   "source": [
    "from sklearn.metrics import accuracy_score\n",
    "\n",
    "accuracy_score(y_test,predic>0.5)\n",
    "print(f'Accuracy: {accuracy_score(y_test, predic > 0.5)*100:.2f} %')"
   ]
  },
  {
   "cell_type": "code",
   "execution_count": null,
   "metadata": {},
   "outputs": [
    {
     "data": {
      "text/plain": [
       "'\\n accuracy: 77.60 % 1st run with randomstate 46\\n Accuracy: 80.40 % second run with randomstate 789\\n accuracy: 77.60 % 3rd run with randomstate 79\\n accuracy: 77,60 % 4th run with randomstate 758\\n accuracy:  % 5th run with randomstate 16\\n'"
      ]
     },
     "execution_count": 36,
     "metadata": {},
     "output_type": "execute_result"
    }
   ],
   "source": [
    "\"\"\"\n",
    "accuracy: 77.60 % 1st run with randomstate 46\n",
    "Accuracy: 80.40 % second run with randomstate 789\n",
    "accuracy: 77.60 % 3rd run with randomstate 79\n",
    "accuracy: 77,60 % 4th run with randomstate 758\n",
    "accuracy: 80.00 % 5th run with randomstate 16\n",
    "accuracy: 83.40 % 6th run with randomstate 16\n",
    "\"\"\""
   ]
  }
 ],
 "metadata": {
  "kernelspec": {
   "display_name": "base",
   "language": "python",
   "name": "python3"
  },
  "language_info": {
   "codemirror_mode": {
    "name": "ipython",
    "version": 3
   },
   "file_extension": ".py",
   "mimetype": "text/x-python",
   "name": "python",
   "nbconvert_exporter": "python",
   "pygments_lexer": "ipython3",
   "version": "3.12.4"
  }
 },
 "nbformat": 4,
 "nbformat_minor": 2
}
